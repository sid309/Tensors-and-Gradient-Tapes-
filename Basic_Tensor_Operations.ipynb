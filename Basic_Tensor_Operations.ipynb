{
  "nbformat": 4,
  "nbformat_minor": 0,
  "metadata": {
    "colab": {
      "name": "Basic Tensor Operations.ipynb",
      "provenance": []
    },
    "kernelspec": {
      "name": "python3",
      "display_name": "Python 3"
    },
    "language_info": {
      "name": "python"
    }
  },
  "cells": [
    {
      "cell_type": "code",
      "metadata": {
        "id": "bftFIHQwNj0d"
      },
      "source": [
        "try:\n",
        "  %tensorflow_version 2.x\n",
        "except Exception:\n",
        "  pass\n"
      ],
      "execution_count": 1,
      "outputs": []
    },
    {
      "cell_type": "code",
      "metadata": {
        "id": "wN2Zw-YZNvnl"
      },
      "source": [
        "import tensorflow as tf\n",
        "import numpy as np"
      ],
      "execution_count": 3,
      "outputs": []
    },
    {
      "cell_type": "code",
      "metadata": {
        "id": "W_BEmPpBNz1c"
      },
      "source": [
        "x=np.arange(0,25)"
      ],
      "execution_count": 4,
      "outputs": []
    },
    {
      "cell_type": "code",
      "metadata": {
        "colab": {
          "base_uri": "https://localhost:8080/"
        },
        "id": "X8lj2gaIObj2",
        "outputId": "7e1225ca-385c-4fee-a0dd-c89f33d901a1"
      },
      "source": [
        "x=tf.constant(x)\n",
        "x"
      ],
      "execution_count": 5,
      "outputs": [
        {
          "output_type": "execute_result",
          "data": {
            "text/plain": [
              "<tf.Tensor: shape=(25,), dtype=int64, numpy=\n",
              "array([ 0,  1,  2,  3,  4,  5,  6,  7,  8,  9, 10, 11, 12, 13, 14, 15, 16,\n",
              "       17, 18, 19, 20, 21, 22, 23, 24])>"
            ]
          },
          "metadata": {},
          "execution_count": 5
        }
      ]
    },
    {
      "cell_type": "code",
      "metadata": {
        "colab": {
          "base_uri": "https://localhost:8080/"
        },
        "id": "mRB6UPeZOgMt",
        "outputId": "4f56f56f-c4ce-4476-b62f-5c0fa426d1ee"
      },
      "source": [
        "x=tf.square(x)\n",
        "x"
      ],
      "execution_count": 6,
      "outputs": [
        {
          "output_type": "execute_result",
          "data": {
            "text/plain": [
              "<tf.Tensor: shape=(25,), dtype=int64, numpy=\n",
              "array([  0,   1,   4,   9,  16,  25,  36,  49,  64,  81, 100, 121, 144,\n",
              "       169, 196, 225, 256, 289, 324, 361, 400, 441, 484, 529, 576])>"
            ]
          },
          "metadata": {},
          "execution_count": 6
        }
      ]
    },
    {
      "cell_type": "code",
      "metadata": {
        "colab": {
          "base_uri": "https://localhost:8080/"
        },
        "id": "5zvqzCa5OmM9",
        "outputId": "ef2242c9-60ec-4d3b-82fb-b80924066feb"
      },
      "source": [
        "x=tf.reshape(x,[5,5])\n",
        "x"
      ],
      "execution_count": 7,
      "outputs": [
        {
          "output_type": "execute_result",
          "data": {
            "text/plain": [
              "<tf.Tensor: shape=(5, 5), dtype=int64, numpy=\n",
              "array([[  0,   1,   4,   9,  16],\n",
              "       [ 25,  36,  49,  64,  81],\n",
              "       [100, 121, 144, 169, 196],\n",
              "       [225, 256, 289, 324, 361],\n",
              "       [400, 441, 484, 529, 576]])>"
            ]
          },
          "metadata": {},
          "execution_count": 7
        }
      ]
    },
    {
      "cell_type": "code",
      "metadata": {
        "id": "4W4rCQdjPKIY"
      },
      "source": [
        "x=tf.cast(x,tf.float32)"
      ],
      "execution_count": 9,
      "outputs": []
    },
    {
      "cell_type": "code",
      "metadata": {
        "id": "RAeqzIUAPR4c"
      },
      "source": [
        "y=tf.constant(2,dtype=tf.float32)"
      ],
      "execution_count": 10,
      "outputs": []
    },
    {
      "cell_type": "code",
      "metadata": {
        "colab": {
          "base_uri": "https://localhost:8080/"
        },
        "id": "_w7SkOOmPlG4",
        "outputId": "595430da-1f05-4a56-d79c-244663fb5147"
      },
      "source": [
        "result=tf.multiply(x,y)\n",
        "result"
      ],
      "execution_count": 11,
      "outputs": [
        {
          "output_type": "execute_result",
          "data": {
            "text/plain": [
              "<tf.Tensor: shape=(5, 5), dtype=float32, numpy=\n",
              "array([[   0.,    2.,    8.,   18.,   32.],\n",
              "       [  50.,   72.,   98.,  128.,  162.],\n",
              "       [ 200.,  242.,  288.,  338.,  392.],\n",
              "       [ 450.,  512.,  578.,  648.,  722.],\n",
              "       [ 800.,  882.,  968., 1058., 1152.]], dtype=float32)>"
            ]
          },
          "metadata": {},
          "execution_count": 11
        }
      ]
    },
    {
      "cell_type": "code",
      "metadata": {
        "colab": {
          "base_uri": "https://localhost:8080/"
        },
        "id": "sQhlZ2bAPplF",
        "outputId": "d9b58cf0-7e7a-4d1c-aba0-ea78b6daaf3c"
      },
      "source": [
        "y=tf.constant([1,2,3,4,5],dtype=tf.float32)\n",
        "y"
      ],
      "execution_count": 12,
      "outputs": [
        {
          "output_type": "execute_result",
          "data": {
            "text/plain": [
              "<tf.Tensor: shape=(5,), dtype=float32, numpy=array([1., 2., 3., 4., 5.], dtype=float32)>"
            ]
          },
          "metadata": {},
          "execution_count": 12
        }
      ]
    },
    {
      "cell_type": "code",
      "metadata": {
        "colab": {
          "base_uri": "https://localhost:8080/"
        },
        "id": "R7YnRtM_RTxb",
        "outputId": "0e1f9892-ea44-4560-e60e-2f951ae4318b"
      },
      "source": [
        "result=x+y\n",
        "result"
      ],
      "execution_count": 13,
      "outputs": [
        {
          "output_type": "execute_result",
          "data": {
            "text/plain": [
              "<tf.Tensor: shape=(5, 5), dtype=float32, numpy=\n",
              "array([[  1.,   3.,   7.,  13.,  21.],\n",
              "       [ 26.,  38.,  52.,  68.,  86.],\n",
              "       [101., 123., 147., 173., 201.],\n",
              "       [226., 258., 292., 328., 366.],\n",
              "       [401., 443., 487., 533., 581.]], dtype=float32)>"
            ]
          },
          "metadata": {},
          "execution_count": 13
        }
      ]
    },
    {
      "cell_type": "code",
      "metadata": {
        "colab": {
          "base_uri": "https://localhost:8080/"
        },
        "id": "092XoFOGUrS_",
        "outputId": "60447752-46c7-4d25-9c4e-98af61273bf0"
      },
      "source": [
        "tf.constant([1,2,3,4],shape=[2,2])"
      ],
      "execution_count": 14,
      "outputs": [
        {
          "output_type": "execute_result",
          "data": {
            "text/plain": [
              "<tf.Tensor: shape=(2, 2), dtype=int32, numpy=\n",
              "array([[1, 2],\n",
              "       [3, 4]], dtype=int32)>"
            ]
          },
          "metadata": {},
          "execution_count": 14
        }
      ]
    },
    {
      "cell_type": "code",
      "metadata": {
        "colab": {
          "base_uri": "https://localhost:8080/"
        },
        "id": "2y2heTCMUygA",
        "outputId": "f553c8ef-d42f-4e8d-b332-04eb4eb49cb5"
      },
      "source": [
        "try:\n",
        "    tf.Variable([1,2,3,4], shape=(2,2))\n",
        "except ValueError as v:\n",
        "    print(v)"
      ],
      "execution_count": 15,
      "outputs": [
        {
          "output_type": "stream",
          "text": [
            "The initial value's shape ((4,)) is not compatible with the explicitly supplied `shape` argument ((2, 2)).\n"
          ],
          "name": "stdout"
        }
      ]
    },
    {
      "cell_type": "code",
      "metadata": {
        "id": "oU0fpq_OU3x7"
      },
      "source": [
        ""
      ],
      "execution_count": null,
      "outputs": []
    }
  ]
}