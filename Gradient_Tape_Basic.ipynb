{
  "nbformat": 4,
  "nbformat_minor": 0,
  "metadata": {
    "colab": {
      "name": "Gradient Tape Basic.ipynb",
      "provenance": []
    },
    "kernelspec": {
      "name": "python3",
      "display_name": "Python 3"
    },
    "language_info": {
      "name": "python"
    }
  },
  "cells": [
    {
      "cell_type": "code",
      "metadata": {
        "id": "bftFIHQwNj0d"
      },
      "source": [
        "try:\n",
        "  %tensorflow_version 2.x\n",
        "except Exception:\n",
        "  pass"
      ],
      "execution_count": 1,
      "outputs": []
    },
    {
      "cell_type": "code",
      "metadata": {
        "id": "wN2Zw-YZNvnl"
      },
      "source": [
        "import tensorflow as tf\n",
        "import numpy as np"
      ],
      "execution_count": 2,
      "outputs": []
    },
    {
      "cell_type": "code",
      "metadata": {
        "colab": {
          "base_uri": "https://localhost:8080/"
        },
        "id": "oU0fpq_OU3x7",
        "outputId": "f1d0b194-48c2-4478-c5ad-8dea18bdc5c7"
      },
      "source": [
        "x=tf.ones((2,2))\n",
        "with tf.GradientTape() as t:\n",
        "  t.watch(x)\n",
        "  y=tf.reduce_sum(x)\n",
        "  z=tf.square(y)\n",
        "dz_dx=t.gradient(z,x)\n",
        "print(dz_dx)"
      ],
      "execution_count": 4,
      "outputs": [
        {
          "output_type": "stream",
          "text": [
            "tf.Tensor(\n",
            "[[8. 8.]\n",
            " [8. 8.]], shape=(2, 2), dtype=float32)\n"
          ],
          "name": "stdout"
        }
      ]
    },
    {
      "cell_type": "code",
      "metadata": {
        "colab": {
          "base_uri": "https://localhost:8080/"
        },
        "id": "-irLgFWBgVRA",
        "outputId": "d25aaf54-3742-4cbf-fd4f-fa4e9c86b5a8"
      },
      "source": [
        "x=tf.constant(3.0)\n",
        "with tf.GradientTape(persistent=True) as t:\n",
        "  t.watch(x)\n",
        "  y=x*x\n",
        "  z=y*y\n",
        "dz_dx=t.gradient(z,x)\n",
        "print(dz_dx)\n",
        "dy_dx=t.gradient(y,x)\n",
        "print(dy_dx)\n",
        "del t"
      ],
      "execution_count": 7,
      "outputs": [
        {
          "output_type": "stream",
          "text": [
            "tf.Tensor(108.0, shape=(), dtype=float32)\n",
            "tf.Tensor(6.0, shape=(), dtype=float32)\n"
          ],
          "name": "stdout"
        }
      ]
    },
    {
      "cell_type": "code",
      "metadata": {
        "colab": {
          "base_uri": "https://localhost:8080/"
        },
        "id": "t07nijjRhHrw",
        "outputId": "e975c925-4c2f-40bd-aaf9-a94061fed7f2"
      },
      "source": [
        "x=tf.Variable(1.0)\n",
        "with tf.GradientTape() as tape2:\n",
        "  with tf.GradientTape() as tape1:\n",
        "    y=x*x*x\n",
        "    dy_dx=tape1.gradient(y,x)\n",
        "  dy2_dx2=tape2.gradient(dy_dx,x)\n",
        "  \n",
        "print(dy_dx)\n",
        "print(dy2_dx2)"
      ],
      "execution_count": 8,
      "outputs": [
        {
          "output_type": "stream",
          "text": [
            "tf.Tensor(3.0, shape=(), dtype=float32)\n",
            "tf.Tensor(6.0, shape=(), dtype=float32)\n"
          ],
          "name": "stdout"
        }
      ]
    },
    {
      "cell_type": "code",
      "metadata": {
        "id": "C0KMu7RTjsXy"
      },
      "source": [
        ""
      ],
      "execution_count": null,
      "outputs": []
    }
  ]
}