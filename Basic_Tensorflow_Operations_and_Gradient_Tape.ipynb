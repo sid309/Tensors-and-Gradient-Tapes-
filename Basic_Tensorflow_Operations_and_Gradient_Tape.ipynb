{
  "nbformat": 4,
  "nbformat_minor": 0,
  "metadata": {
    "colab": {
      "name": "Basic Tensorflow Operations and Gradient Tape.ipynb",
      "provenance": []
    },
    "kernelspec": {
      "name": "python3",
      "display_name": "Python 3"
    },
    "language_info": {
      "name": "python"
    }
  },
  "cells": [
    {
      "cell_type": "code",
      "metadata": {
        "id": "bftFIHQwNj0d"
      },
      "source": [
        "try:\n",
        "  %tensorflow_version 2.x\n",
        "except Exception:\n",
        "  pass"
      ],
      "execution_count": 1,
      "outputs": []
    },
    {
      "cell_type": "code",
      "metadata": {
        "id": "wN2Zw-YZNvnl"
      },
      "source": [
        "import tensorflow as tf\n",
        "import numpy as np"
      ],
      "execution_count": 2,
      "outputs": []
    },
    {
      "cell_type": "code",
      "metadata": {
        "colab": {
          "base_uri": "https://localhost:8080/"
        },
        "id": "C0KMu7RTjsXy",
        "outputId": "0f602205-cdea-40a3-80e5-bbc95fae7d3d"
      },
      "source": [
        "def tf_constant(array):\n",
        "  return tf.constant(array)\n",
        "\n",
        "tmp_array = np.arange(1,10)\n",
        "x = tf_constant(tmp_array)\n",
        "x"
      ],
      "execution_count": 9,
      "outputs": [
        {
          "output_type": "execute_result",
          "data": {
            "text/plain": [
              "<tf.Tensor: shape=(9,), dtype=int64, numpy=array([1, 2, 3, 4, 5, 6, 7, 8, 9])>"
            ]
          },
          "metadata": {},
          "execution_count": 9
        }
      ]
    },
    {
      "cell_type": "code",
      "metadata": {
        "colab": {
          "base_uri": "https://localhost:8080/"
        },
        "id": "ZVXODsohnXev",
        "outputId": "623c671a-5262-40d0-9f7c-72d112395916"
      },
      "source": [
        "def tf_square(array):\n",
        "  arr=tf.constant(array)\n",
        "  return tf.square(array)\n",
        "tmp_array=np.arange(1, 10)\n",
        "x = tf_square(tmp_array)\n",
        "x"
      ],
      "execution_count": 11,
      "outputs": [
        {
          "output_type": "execute_result",
          "data": {
            "text/plain": [
              "<tf.Tensor: shape=(9,), dtype=int64, numpy=array([ 1,  4,  9, 16, 25, 36, 49, 64, 81])>"
            ]
          },
          "metadata": {},
          "execution_count": 11
        }
      ]
    },
    {
      "cell_type": "code",
      "metadata": {
        "colab": {
          "base_uri": "https://localhost:8080/"
        },
        "id": "iVA5qbbQnhaY",
        "outputId": "0dcfee66-6196-42b6-8681-5e186e983ffe"
      },
      "source": [
        "def tf_reshape(array,shape):\n",
        "  arr=tf.constant(array)\n",
        "  return tf.reshape(arr,shape=shape)\n",
        "tmp_array = np.array([1,2,3,4,5,6,7,8,9])\n",
        "x = tf_reshape(tmp_array, (3, 3))\n",
        "x"
      ],
      "execution_count": 12,
      "outputs": [
        {
          "output_type": "execute_result",
          "data": {
            "text/plain": [
              "<tf.Tensor: shape=(3, 3), dtype=int64, numpy=\n",
              "array([[1, 2, 3],\n",
              "       [4, 5, 6],\n",
              "       [7, 8, 9]])>"
            ]
          },
          "metadata": {},
          "execution_count": 12
        }
      ]
    },
    {
      "cell_type": "code",
      "metadata": {
        "colab": {
          "base_uri": "https://localhost:8080/"
        },
        "id": "aTeZ0iGBn9IP",
        "outputId": "e8edd5c0-cbad-4f90-8027-538058bd683c"
      },
      "source": [
        "def tf_cast(array,dtype):\n",
        "  arr=tf.constant(array)\n",
        "  return tf.cast(arr,dtype=dtype)\n",
        "tmp_array = [1,2,3,4]\n",
        "x = tf_cast(tmp_array, tf.float32)\n",
        "x"
      ],
      "execution_count": 13,
      "outputs": [
        {
          "output_type": "execute_result",
          "data": {
            "text/plain": [
              "<tf.Tensor: shape=(4,), dtype=float32, numpy=array([1., 2., 3., 4.], dtype=float32)>"
            ]
          },
          "metadata": {},
          "execution_count": 13
        }
      ]
    },
    {
      "cell_type": "code",
      "metadata": {
        "colab": {
          "base_uri": "https://localhost:8080/"
        },
        "id": "fV8jdUyJoJJB",
        "outputId": "8565d6c1-ec74-4e5e-cf66-4ea9dc2fb5a4"
      },
      "source": [
        "def tf_multiply(t1,t2):\n",
        "  return tf.multiply(t1,t2)\n",
        "tmp_1 = tf.constant(np.array([[1,2],[3,4]]))\n",
        "tmp_2 = tf.constant(np.array(2))\n",
        "result = tf_multiply(tmp_1, tmp_2)\n",
        "result"
      ],
      "execution_count": 14,
      "outputs": [
        {
          "output_type": "execute_result",
          "data": {
            "text/plain": [
              "<tf.Tensor: shape=(2, 2), dtype=int64, numpy=\n",
              "array([[2, 4],\n",
              "       [6, 8]])>"
            ]
          },
          "metadata": {},
          "execution_count": 14
        }
      ]
    },
    {
      "cell_type": "code",
      "metadata": {
        "colab": {
          "base_uri": "https://localhost:8080/"
        },
        "id": "NcFqVBpooU7a",
        "outputId": "72b2f816-aaf3-4d11-ca7d-3ee5409a2487"
      },
      "source": [
        "def tf_add(t1,t2):\n",
        "  return tf.add(t1,t2)\n",
        "tmp_1 = tf.constant(np.array([1, 2, 3]))\n",
        "tmp_2 = tf.constant(np.array([4, 5, 6]))\n",
        "tf_add(tmp_1, tmp_2).numpy()\n"
      ],
      "execution_count": 26,
      "outputs": [
        {
          "output_type": "execute_result",
          "data": {
            "text/plain": [
              "array([5, 7, 9])"
            ]
          },
          "metadata": {},
          "execution_count": 26
        }
      ]
    },
    {
      "cell_type": "code",
      "metadata": {
        "id": "SkfCwXfmob63"
      },
      "source": [
        "def tf_gradient_tape(x):\n",
        "  with tf.GradientTape() as t:\n",
        "    t.watch(x)\n",
        "    y=3*x**3-2*x**2+x\n",
        "    z=tf.reduce_sum(y)\n",
        "  dz_dx=t.gradient(z,x)\n",
        "  return dz_dx"
      ],
      "execution_count": 27,
      "outputs": []
    },
    {
      "cell_type": "code",
      "metadata": {
        "id": "YiZoQXIBpthi",
        "outputId": "24f9cccb-c89a-4260-da48-301e0a38a3dd",
        "colab": {
          "base_uri": "https://localhost:8080/"
        }
      },
      "source": [
        "tmp_x = tf.constant(2.0)\n",
        "dz_dx = tf_gradient_tape(tmp_x)\n",
        "result = dz_dx.numpy()\n",
        "result"
      ],
      "execution_count": 28,
      "outputs": [
        {
          "output_type": "execute_result",
          "data": {
            "text/plain": [
              "29.0"
            ]
          },
          "metadata": {},
          "execution_count": 28
        }
      ]
    },
    {
      "cell_type": "code",
      "metadata": {
        "id": "Axnq2SPApvW5"
      },
      "source": [
        ""
      ],
      "execution_count": null,
      "outputs": []
    }
  ]
}